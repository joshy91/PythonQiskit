{
 "cells": [
  {
   "cell_type": "code",
   "execution_count": 1,
   "metadata": {},
   "outputs": [],
   "source": [
    "import numpy as np\n",
    "import scipy\n",
    "from scipy.linalg import expm\n",
    "import matplotlib.pyplot as plt\n",
    "from mpl_toolkits.mplot3d import Axes3D\n",
    "from sklearn import datasets\n",
    "from sklearn.model_selection import train_test_split\n",
    "from sklearn.preprocessing import StandardScaler, MinMaxScaler\n",
    "from sklearn.decomposition import PCA\n",
    "import pandas as pd\n",
    "from qiskit import BasicAer\n",
    "from qiskit.aqua.input import ClassificationInput\n",
    "from qiskit.aqua import run_algorithm, QuantumInstance, aqua_globals\n",
    "from qiskit.aqua.components.optimizers import SPSA, COBYLA\n",
    "\n",
    "def Currency(training_size, test_size, n, PLOT_DATA):\n",
    "    class_labels = [r'Buy', r'Sell', r'Hold']\n",
    "\n",
    "    training=pd.read_csv('/home/avery/Downloads/EURUSDTrainingData.csv', sep=',',header=0)\n",
    "    trainingNP = training.to_numpy()\n",
    "    sample_train = trainingNP[:,:-2]\n",
    "    label_train = trainingNP[:,-2]\n",
    "    label_train[label_train == 'Buy'] = 0\n",
    "    label_train[label_train == 'Sell'] = 1\n",
    "    label_train[label_train == 'Hold'] = 2\n",
    "\n",
    "    test=pd.read_csv('/home/avery/Downloads/EURUSDTestData.csv', sep=',',header=0)\n",
    "    testNP = test.to_numpy()\n",
    "    sample_test = testNP[:,:-2]\n",
    "    label_test = testNP[:,-2]\n",
    "    label_test[label_test == 'Buy'] = 0\n",
    "    label_test[label_test == 'Sell'] = 1\n",
    "    label_test[label_test == 'Hold'] = 2\n",
    "    \n",
    "    # Now we standarize for gaussian around 0 with unit variance\n",
    "    std_scale = StandardScaler().fit(sample_train)\n",
    "    sample_train = std_scale.transform(sample_train)\n",
    "    sample_test = std_scale.transform(sample_test)\n",
    "\n",
    "    # Now reduce number of features to number of qubits\n",
    "    pca = PCA(n_components=n).fit(sample_train)\n",
    "    sample_train = pca.transform(sample_train)\n",
    "    sample_test = pca.transform(sample_test)\n",
    "\n",
    "    # Scale to the range (-1,+1)\n",
    "    samples = np.append(sample_train, sample_test, axis=0)\n",
    "    minmax_scale = MinMaxScaler((-1, 1)).fit(samples)\n",
    "    sample_train = minmax_scale.transform(sample_train)\n",
    "    sample_test = minmax_scale.transform(sample_test)\n",
    "    # Pick training size number of samples from each distro\n",
    "    training_input = {key: (sample_train[label_train == k, :])[:training_size] for k, key in enumerate(class_labels)}\n",
    "    test_input = {key: (sample_test[label_test == k, :])[:test_size] for k, key in enumerate(class_labels)}\n",
    "\n",
    "    if PLOT_DATA:\n",
    "        for k in range(0, 3):\n",
    "            plt.scatter(sample_train[label_train == k, 0][:training_size],\n",
    "                        sample_train[label_train == k, 1][:training_size])\n",
    "\n",
    "        plt.title(\"PCA dim. reduced Currency dataset\")\n",
    "        plt.show()\n",
    "\n",
    "    return sample_train, training_input, test_input, class_labels"
   ]
  },
  {
   "cell_type": "code",
   "execution_count": 3,
   "metadata": {},
   "outputs": [],
   "source": [
    "import numpy as np\n",
    "import scipy\n",
    "\n",
    "from qiskit import BasicAer\n",
    "from qiskit.aqua.input import ClassificationInput\n",
    "from qiskit.aqua import run_algorithm, QuantumInstance, aqua_globals\n",
    "from qiskit.aqua.components.optimizers import SPSA, COBYLA\n",
    "\n",
    "feature_dim = 4 # dimension of each data point\n",
    "training_dataset_size = 80\n",
    "testing_dataset_size = 20\n",
    "random_seed = 10598\n",
    "np.random.seed(random_seed)\n",
    "\n",
    "sample_Total, training_input, test_input, class_labels = Currency(\n",
    "    training_size=training_dataset_size,\n",
    "    test_size=testing_dataset_size,\n",
    "    n=feature_dim, PLOT_DATA=False\n",
    ")\n",
    "\n",
    "classification_input = ClassificationInput(training_input, test_input)\n",
    "params = {\n",
    "    'problem': {'name': 'classification', 'random_seed': random_seed},\n",
    "    'algorithm': {'name': 'VQC'},\n",
    "    'backend': {'provider': 'qiskit.BasicAer', 'name': 'statevector_simulator'},\n",
    "    'optimizer': {'name': 'COBYLA', 'maxiter':200},\n",
    "    'variational_form': {'name': 'RYRZ', 'depth': 3},\n",
    "    'feature_map': {'name': None},\n",
    "}"
   ]
  },
  {
   "cell_type": "code",
   "execution_count": 4,
   "metadata": {},
   "outputs": [
    {
     "name": "stdout",
     "output_type": "stream",
     "text": [
      "VQC accuracy with RawFeatureVector:  0.4666666666666667\n"
     ]
    }
   ],
   "source": [
    "params['feature_map']['name'] = 'RawFeatureVector'\n",
    "result = run_algorithm(params, classification_input)\n",
    "print(\"VQC accuracy with RawFeatureVector: \", result['testing_accuracy'])"
   ]
  },
  {
   "cell_type": "code",
   "execution_count": 5,
   "metadata": {},
   "outputs": [
    {
     "name": "stdout",
     "output_type": "stream",
     "text": [
      "Test accuracy with SecondOrderExpansion:  0.36666666666666664\n"
     ]
    }
   ],
   "source": [
    "params['feature_map']['name'] = 'SecondOrderExpansion'\n",
    "result = run_algorithm(params, classification_input)\n",
    "print(\"Test accuracy with SecondOrderExpansion: \", result['testing_accuracy'])"
   ]
  },
  {
   "cell_type": "code",
   "execution_count": null,
   "metadata": {},
   "outputs": [],
   "source": []
  }
 ],
 "metadata": {
  "kernelspec": {
   "display_name": "Python 3",
   "language": "python",
   "name": "python3"
  },
  "language_info": {
   "codemirror_mode": {
    "name": "ipython",
    "version": 3
   },
   "file_extension": ".py",
   "mimetype": "text/x-python",
   "name": "python",
   "nbconvert_exporter": "python",
   "pygments_lexer": "ipython3",
   "version": "3.7.4"
  }
 },
 "nbformat": 4,
 "nbformat_minor": 2
}
