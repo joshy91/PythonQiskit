{
 "cells": [
  {
   "cell_type": "code",
   "execution_count": 1,
   "metadata": {},
   "outputs": [],
   "source": [
    "import numpy as np\n",
    "import scipy\n",
    "from scipy.linalg import expm\n",
    "import matplotlib.pyplot as plt\n",
    "from mpl_toolkits.mplot3d import Axes3D\n",
    "from sklearn import datasets\n",
    "from sklearn.model_selection import train_test_split\n",
    "from sklearn.preprocessing import StandardScaler, MinMaxScaler\n",
    "from sklearn.decomposition import PCA\n",
    "import pandas as pd\n",
    "from qiskit import BasicAer\n",
    "from qiskit.aqua.input import ClassificationInput\n",
    "from qiskit.aqua import run_algorithm\n",
    "\n",
    "\n",
    "def Currency(training_size, test_size, n, PLOT_DATA):\n",
    "    class_labels = [r'Buy', r'Sell', r'Hold']\n",
    "    training_url = \"https://raw.githubusercontent.com/joshy91/PythonQiskit/master/EURUSDTrainingData.csv\"\n",
    "    training=pd.read_csv(training_url, sep=',',header=0)\n",
    "    trainingNP = training.to_numpy()\n",
    "    sample_train = trainingNP[:,:-2]\n",
    "    label_train = trainingNP[:,-2]\n",
    "    label_train[label_train == 'Buy'] = 0\n",
    "    label_train[label_train == 'Sell'] = 1\n",
    "    label_train[label_train == 'Hold'] = 2\n",
    "    \n",
    "    test_url = \"https://raw.githubusercontent.com/joshy91/PythonQiskit/master/EURUSDTestData.csv\"\n",
    "    test=pd.read_csv(test_url, sep=',',header=0)\n",
    "    testNP = test.to_numpy()\n",
    "    sample_test = testNP[:,:-2]\n",
    "    label_test = testNP[:,-2]\n",
    "    label_test[label_test == 'Buy'] = 0\n",
    "    label_test[label_test == 'Sell'] = 1\n",
    "    label_test[label_test == 'Hold'] = 2\n",
    "    \n",
    "    # Now we standarize for gaussian around 0 with unit variance\n",
    "    std_scale = StandardScaler().fit(sample_train)\n",
    "    sample_train = std_scale.transform(sample_train)\n",
    "    sample_test = std_scale.transform(sample_test)\n",
    "\n",
    "    # Now reduce number of features to number of qubits\n",
    "    pca = PCA(n_components=n).fit(sample_train)\n",
    "    sample_train = pca.transform(sample_train)\n",
    "    sample_test = pca.transform(sample_test)\n",
    "\n",
    "    # Scale to the range (-1,+1)\n",
    "    samples = np.append(sample_train, sample_test, axis=0)\n",
    "    minmax_scale = MinMaxScaler((-1, 1)).fit(samples)\n",
    "    sample_train = minmax_scale.transform(sample_train)\n",
    "    sample_test = minmax_scale.transform(sample_test)\n",
    "    # Pick training size number of samples from each distro\n",
    "    training_input = {key: (sample_train[label_train == k, :])[:training_size] for k, key in enumerate(class_labels)}\n",
    "    test_input = {key: (sample_test[label_test == k, :])[:test_size] for k, key in enumerate(class_labels)}\n",
    "\n",
    "    if PLOT_DATA:\n",
    "        for k in range(0, 3):\n",
    "            plt.scatter(sample_train[label_train == k, 0][:training_size],\n",
    "                        sample_train[label_train == k, 1][:training_size])\n",
    "\n",
    "        plt.title(\"PCA dim. reduced Currency dataset\")\n",
    "        plt.show()\n",
    "\n",
    "    return sample_train, training_input, test_input, class_labels"
   ]
  },
  {
   "cell_type": "code",
   "execution_count": 2,
   "metadata": {},
   "outputs": [
    {
     "data": {
      "image/png": "[encoded data removed]",
      "text/plain": [
       "<Figure size 432x288 with 1 Axes>"
      ]
     },
     "metadata": {
      "needs_background": "light"
     },
     "output_type": "display_data"
    }
   ],
   "source": [
    "n = 2  # dimension of each data point\n",
    "sample_Total, training_input, test_input, class_labels = Currency(\n",
    "    training_size=80,\n",
    "    test_size=20, n=n, PLOT_DATA=True\n",
    ")\n",
    "temp = [test_input[k] for k in test_input]\n",
    "total_array = np.concatenate(temp)"
   ]
  },
  {
   "cell_type": "code",
   "execution_count": 52,
   "metadata": {},
   "outputs": [
    {
     "name": "stdout",
     "output_type": "stream",
     "text": [
      "'testing_accuracy' : 0.5666666666666667\n",
      "'test_success_ratio' : 0.5666666666666667\n",
      "'predicted_labels' : [0 0 0 1 1 0 0 0 0 0 0 0 0 0 0 0 0 0 1 0 2 1 1 1 1 0 1 1 1 1 2 1 1 1 1 1 2\n",
      " 2 1 2 1 1 0 0 1 1 0 1 1 1 1 0 1 1 2 0 0 1 0 1]\n",
      "'predicted_classes' : ['Buy', 'Buy', 'Buy', 'Hold', 'Hold', 'Buy', 'Buy', 'Buy', 'Buy', 'Buy', 'Buy', 'Buy', 'Buy', 'Buy', 'Buy', 'Buy', 'Buy', 'Buy', 'Hold', 'Buy', 'Sell', 'Hold', 'Hold', 'Hold', 'Hold', 'Buy', 'Hold', 'Hold', 'Hold', 'Hold', 'Sell', 'Hold', 'Hold', 'Hold', 'Hold', 'Hold', 'Sell', 'Sell', 'Hold', 'Sell', 'Hold', 'Hold', 'Buy', 'Buy', 'Hold', 'Hold', 'Buy', 'Hold', 'Hold', 'Hold', 'Hold', 'Buy', 'Hold', 'Hold', 'Sell', 'Buy', 'Buy', 'Hold', 'Buy', 'Hold']\n"
     ]
    }
   ],
   "source": [
    "aqua_dict = {\n",
    "    'problem': {'name': 'classification', 'random_seed': 10598},\n",
    "    'algorithm': {\n",
    "        'name': 'QSVM'\n",
    "    },\n",
    "    'feature_map': {'name': 'SecondOrderExpansion', 'depth': 2, 'entangler_map': [[0, 1]]},\n",
    "    'multiclass_extension': {'name': 'AllPairs'},\n",
    "    'backend': {'shots': 1024}\n",
    "}\n",
    "\n",
    "backend = BasicAer.get_backend('qasm_simulator')\n",
    "algo_input = ClassificationInput(training_input, test_input, total_array)\n",
    "result = run_algorithm(aqua_dict, algo_input, backend=backend)\n",
    "for k,v in result.items():\n",
    "    print(\"'{}' : {}\".format(k, v))"
   ]
  }
 ],
 "metadata": {
  "kernelspec": {
   "display_name": "Python 3",
   "language": "python",
   "name": "python3"
  },
  "language_info": {
   "codemirror_mode": {
    "name": "ipython",
    "version": 3
   },
   "file_extension": ".py",
   "mimetype": "text/x-python",
   "name": "python",
   "nbconvert_exporter": "python",
   "pygments_lexer": "ipython3",
   "version": "3.7.4"
  }
 },
 "nbformat": 4,
 "nbformat_minor": 2
}
